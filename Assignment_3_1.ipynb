{
 "cells": [
  {
   "cell_type": "code",
   "execution_count": 1,
   "metadata": {},
   "outputs": [],
   "source": [
    "import random   # Used for generating random nos.\n",
    "import numpy as np  # Used for numpy operations\n",
    "import pandas as pd # Used for Dataframe related operations\n",
    "import re   # Used for regular expressions"
   ]
  },
  {
   "cell_type": "markdown",
   "metadata": {},
   "source": [
    "##### 1.Write a Python script that generate 100 million (100000000) random numbers and add them all together with and without use of numpy  and Check how long it takes to  them all together with and without use of numpy and Check how long it takes to execute in both the scenarios"
   ]
  },
  {
   "cell_type": "code",
   "execution_count": 2,
   "metadata": {},
   "outputs": [],
   "source": [
    "num=100_000_000 # Storing the 100 million number for further use"
   ]
  },
  {
   "cell_type": "markdown",
   "metadata": {},
   "source": [
    "Generating the first list of Random numbers."
   ]
  },
  {
   "cell_type": "code",
   "execution_count": 3,
   "metadata": {},
   "outputs": [],
   "source": [
    "random_nos1=[random.randint(1,100) for _ in range (num)]   "
   ]
  },
  {
   "cell_type": "markdown",
   "metadata": {},
   "source": [
    "Generating the second list of Random numbers."
   ]
  },
  {
   "cell_type": "code",
   "execution_count": 4,
   "metadata": {},
   "outputs": [],
   "source": [
    "random_nos2=[random.randint(1,100) for _ in range (num)]"
   ]
  },
  {
   "cell_type": "markdown",
   "metadata": {},
   "source": [
    "Iterating through both the lists and adding each element i.e. Using a normalized approach.\n",
    "Would take longer time."
   ]
  },
  {
   "cell_type": "code",
   "execution_count": 5,
   "metadata": {},
   "outputs": [],
   "source": [
    "sum_list=[random_nos1[i]+random_nos2[i] for i in range(num)]"
   ]
  },
  {
   "cell_type": "markdown",
   "metadata": {},
   "source": [
    "Using numpy for adding the two lists.\n",
    "Would take less time than normal addition of two lists."
   ]
  },
  {
   "cell_type": "code",
   "execution_count": 6,
   "metadata": {},
   "outputs": [],
   "source": [
    "np_sum=random_nos1+random_nos2"
   ]
  },
  {
   "cell_type": "markdown",
   "metadata": {},
   "source": [
    "##### 2. Write a Python script that generate matrix of (10000, 10000) and transpose it. "
   ]
  },
  {
   "cell_type": "markdown",
   "metadata": {},
   "source": [
    "Using random.randint library to generate matrix of random nos. between 0 to 10 of the size 10000 by 10000."
   ]
  },
  {
   "cell_type": "code",
   "execution_count": 7,
   "metadata": {},
   "outputs": [
    {
     "data": {
      "text/plain": [
       "array([[3, 5, 0, ..., 9, 6, 1],\n",
       "       [1, 3, 1, ..., 0, 0, 3],\n",
       "       [8, 5, 0, ..., 7, 6, 7],\n",
       "       ...,\n",
       "       [3, 0, 6, ..., 4, 5, 9],\n",
       "       [1, 9, 5, ..., 4, 0, 9],\n",
       "       [1, 7, 4, ..., 0, 3, 2]], shape=(10000, 10000), dtype=int32)"
      ]
     },
     "execution_count": 7,
     "metadata": {},
     "output_type": "execute_result"
    }
   ],
   "source": [
    "mat=np.random.randint(10,size=(10000,10000))\n",
    "mat"
   ]
  },
  {
   "cell_type": "markdown",
   "metadata": {},
   "source": [
    "Using the Transpose function to obtain the transpose of the matrix."
   ]
  },
  {
   "cell_type": "code",
   "execution_count": 8,
   "metadata": {},
   "outputs": [
    {
     "data": {
      "text/plain": [
       "array([[3, 1, 8, ..., 3, 1, 1],\n",
       "       [5, 3, 5, ..., 0, 9, 7],\n",
       "       [0, 1, 0, ..., 6, 5, 4],\n",
       "       ...,\n",
       "       [9, 0, 7, ..., 4, 4, 0],\n",
       "       [6, 0, 6, ..., 5, 0, 3],\n",
       "       [1, 3, 7, ..., 9, 9, 2]], shape=(10000, 10000), dtype=int32)"
      ]
     },
     "execution_count": 8,
     "metadata": {},
     "output_type": "execute_result"
    }
   ],
   "source": [
    "mat_t=mat.transpose()\n",
    "mat_t"
   ]
  },
  {
   "cell_type": "markdown",
   "metadata": {},
   "source": [
    "##### 3. Load the dataset “Online_Retail” provided into pandas dataframe. \n",
    "- **a.** Process any missing values. Create descriptive statistics. (Use of numpy)\n",
    "- **b.** Plot time series of price using pandas functionality. Filter transactions based on date.\n",
    "- **c.** Plot time series chart of price where quantity is less than 1000 and in the year 2011.\n",
    "- **d.** Calculate total amount of price in a pivot table based on product description.\n",
    "- **e.** Which country has the highest price and for which product?\n",
    "- **f.** Calculate top 10 products with minimum price and in the year 2010."
   ]
  },
  {
   "cell_type": "markdown",
   "metadata": {},
   "source": [
    "Loading the dataset using Pandas "
   ]
  },
  {
   "cell_type": "code",
   "execution_count": 9,
   "metadata": {},
   "outputs": [
    {
     "data": {
      "text/html": [
       "<div>\n",
       "<style scoped>\n",
       "    .dataframe tbody tr th:only-of-type {\n",
       "        vertical-align: middle;\n",
       "    }\n",
       "\n",
       "    .dataframe tbody tr th {\n",
       "        vertical-align: top;\n",
       "    }\n",
       "\n",
       "    .dataframe thead th {\n",
       "        text-align: right;\n",
       "    }\n",
       "</style>\n",
       "<table border=\"1\" class=\"dataframe\">\n",
       "  <thead>\n",
       "    <tr style=\"text-align: right;\">\n",
       "      <th></th>\n",
       "      <th>Invoice</th>\n",
       "      <th>StockCode</th>\n",
       "      <th>Description</th>\n",
       "      <th>Quantity</th>\n",
       "      <th>InvoiceDate</th>\n",
       "      <th>Price</th>\n",
       "      <th>Customer ID</th>\n",
       "      <th>Country</th>\n",
       "    </tr>\n",
       "  </thead>\n",
       "  <tbody>\n",
       "    <tr>\n",
       "      <th>0</th>\n",
       "      <td>489434</td>\n",
       "      <td>85048</td>\n",
       "      <td>15CM CHRISTMAS GLASS BALL 20 LIGHTS</td>\n",
       "      <td>12</td>\n",
       "      <td>01-12-2009 07:45</td>\n",
       "      <td>6.95</td>\n",
       "      <td>13085.0</td>\n",
       "      <td>United Kingdom</td>\n",
       "    </tr>\n",
       "    <tr>\n",
       "      <th>1</th>\n",
       "      <td>489434</td>\n",
       "      <td>79323P</td>\n",
       "      <td>PINK CHERRY LIGHTS</td>\n",
       "      <td>12</td>\n",
       "      <td>01-12-2009 07:45</td>\n",
       "      <td>6.75</td>\n",
       "      <td>13085.0</td>\n",
       "      <td>United Kingdom</td>\n",
       "    </tr>\n",
       "    <tr>\n",
       "      <th>2</th>\n",
       "      <td>489434</td>\n",
       "      <td>79323W</td>\n",
       "      <td>WHITE CHERRY LIGHTS</td>\n",
       "      <td>12</td>\n",
       "      <td>01-12-2009 07:45</td>\n",
       "      <td>6.75</td>\n",
       "      <td>13085.0</td>\n",
       "      <td>United Kingdom</td>\n",
       "    </tr>\n",
       "    <tr>\n",
       "      <th>3</th>\n",
       "      <td>489434</td>\n",
       "      <td>22041</td>\n",
       "      <td>RECORD FRAME 7\" SINGLE SIZE</td>\n",
       "      <td>48</td>\n",
       "      <td>01-12-2009 07:45</td>\n",
       "      <td>2.10</td>\n",
       "      <td>13085.0</td>\n",
       "      <td>United Kingdom</td>\n",
       "    </tr>\n",
       "    <tr>\n",
       "      <th>4</th>\n",
       "      <td>489434</td>\n",
       "      <td>21232</td>\n",
       "      <td>STRAWBERRY CERAMIC TRINKET BOX</td>\n",
       "      <td>24</td>\n",
       "      <td>01-12-2009 07:45</td>\n",
       "      <td>1.25</td>\n",
       "      <td>13085.0</td>\n",
       "      <td>United Kingdom</td>\n",
       "    </tr>\n",
       "    <tr>\n",
       "      <th>...</th>\n",
       "      <td>...</td>\n",
       "      <td>...</td>\n",
       "      <td>...</td>\n",
       "      <td>...</td>\n",
       "      <td>...</td>\n",
       "      <td>...</td>\n",
       "      <td>...</td>\n",
       "      <td>...</td>\n",
       "    </tr>\n",
       "    <tr>\n",
       "      <th>437880</th>\n",
       "      <td>C553031</td>\n",
       "      <td>22300</td>\n",
       "      <td>COFFEE MUG DOG + BALL DESIGN</td>\n",
       "      <td>-1</td>\n",
       "      <td>12-05-2011 19:43</td>\n",
       "      <td>2.55</td>\n",
       "      <td>13908.0</td>\n",
       "      <td>United Kingdom</td>\n",
       "    </tr>\n",
       "    <tr>\n",
       "      <th>437881</th>\n",
       "      <td>C553031</td>\n",
       "      <td>21533</td>\n",
       "      <td>RETROSPOT LARGE MILK JUG</td>\n",
       "      <td>-3</td>\n",
       "      <td>12-05-2011 19:43</td>\n",
       "      <td>4.95</td>\n",
       "      <td>13908.0</td>\n",
       "      <td>United Kingdom</td>\n",
       "    </tr>\n",
       "    <tr>\n",
       "      <th>437882</th>\n",
       "      <td>C553031</td>\n",
       "      <td>21240</td>\n",
       "      <td>BLUE POLKADOT CUP</td>\n",
       "      <td>-3</td>\n",
       "      <td>12-05-2011 19:43</td>\n",
       "      <td>0.85</td>\n",
       "      <td>13908.0</td>\n",
       "      <td>United Kingdom</td>\n",
       "    </tr>\n",
       "    <tr>\n",
       "      <th>437883</th>\n",
       "      <td>C553032</td>\n",
       "      <td>22891</td>\n",
       "      <td>TEA FOR ONE POLKADOT</td>\n",
       "      <td>-3</td>\n",
       "      <td>12-05-2011 19:44</td>\n",
       "      <td>4.25</td>\n",
       "      <td>13320.0</td>\n",
       "      <td>United Kingdom</td>\n",
       "    </tr>\n",
       "    <tr>\n",
       "      <th>437884</th>\n",
       "      <td>C553032</td>\n",
       "      <td>22631</td>\n",
       "      <td>CIRCUS PARADE LUNCH BOX</td>\n",
       "      <td>-3</td>\n",
       "      <td>12-05-2011 19:44</td>\n",
       "      <td>1.95</td>\n",
       "      <td>13320.0</td>\n",
       "      <td>United Kingdom</td>\n",
       "    </tr>\n",
       "  </tbody>\n",
       "</table>\n",
       "<p>437885 rows × 8 columns</p>\n",
       "</div>"
      ],
      "text/plain": [
       "        Invoice StockCode                          Description  Quantity  \\\n",
       "0        489434     85048  15CM CHRISTMAS GLASS BALL 20 LIGHTS        12   \n",
       "1        489434    79323P                   PINK CHERRY LIGHTS        12   \n",
       "2        489434    79323W                  WHITE CHERRY LIGHTS        12   \n",
       "3        489434     22041         RECORD FRAME 7\" SINGLE SIZE         48   \n",
       "4        489434     21232       STRAWBERRY CERAMIC TRINKET BOX        24   \n",
       "...         ...       ...                                  ...       ...   \n",
       "437880  C553031     22300         COFFEE MUG DOG + BALL DESIGN        -1   \n",
       "437881  C553031     21533             RETROSPOT LARGE MILK JUG        -3   \n",
       "437882  C553031     21240                    BLUE POLKADOT CUP        -3   \n",
       "437883  C553032     22891                 TEA FOR ONE POLKADOT        -3   \n",
       "437884  C553032     22631             CIRCUS PARADE LUNCH BOX         -3   \n",
       "\n",
       "             InvoiceDate  Price  Customer ID         Country  \n",
       "0       01-12-2009 07:45   6.95      13085.0  United Kingdom  \n",
       "1       01-12-2009 07:45   6.75      13085.0  United Kingdom  \n",
       "2       01-12-2009 07:45   6.75      13085.0  United Kingdom  \n",
       "3       01-12-2009 07:45   2.10      13085.0  United Kingdom  \n",
       "4       01-12-2009 07:45   1.25      13085.0  United Kingdom  \n",
       "...                  ...    ...          ...             ...  \n",
       "437880  12-05-2011 19:43   2.55      13908.0  United Kingdom  \n",
       "437881  12-05-2011 19:43   4.95      13908.0  United Kingdom  \n",
       "437882  12-05-2011 19:43   0.85      13908.0  United Kingdom  \n",
       "437883  12-05-2011 19:44   4.25      13320.0  United Kingdom  \n",
       "437884  12-05-2011 19:44   1.95      13320.0  United Kingdom  \n",
       "\n",
       "[437885 rows x 8 columns]"
      ]
     },
     "execution_count": 9,
     "metadata": {},
     "output_type": "execute_result"
    }
   ],
   "source": [
    "df=pd.read_csv(\"online_retail.csv\")\n",
    "df"
   ]
  },
  {
   "cell_type": "markdown",
   "metadata": {},
   "source": [
    "Getting the no. of rows and columns in the dataset."
   ]
  },
  {
   "cell_type": "code",
   "execution_count": 10,
   "metadata": {},
   "outputs": [
    {
     "data": {
      "text/plain": [
       "(437885, 8)"
      ]
     },
     "execution_count": 10,
     "metadata": {},
     "output_type": "execute_result"
    }
   ],
   "source": [
    "df.shape"
   ]
  },
  {
   "cell_type": "markdown",
   "metadata": {},
   "source": [
    "Getting the no. of cells in the dataset."
   ]
  },
  {
   "cell_type": "code",
   "execution_count": 11,
   "metadata": {},
   "outputs": [
    {
     "data": {
      "text/plain": [
       "3503080"
      ]
     },
     "execution_count": 11,
     "metadata": {},
     "output_type": "execute_result"
    }
   ],
   "source": [
    "df.size"
   ]
  },
  {
   "cell_type": "markdown",
   "metadata": {},
   "source": [
    "Getting the information about the columns in the dataset."
   ]
  },
  {
   "cell_type": "code",
   "execution_count": 12,
   "metadata": {},
   "outputs": [
    {
     "name": "stdout",
     "output_type": "stream",
     "text": [
      "<class 'pandas.core.frame.DataFrame'>\n",
      "RangeIndex: 437885 entries, 0 to 437884\n",
      "Data columns (total 8 columns):\n",
      " #   Column       Non-Null Count   Dtype  \n",
      "---  ------       --------------   -----  \n",
      " 0   Invoice      437885 non-null  object \n",
      " 1   StockCode    437885 non-null  object \n",
      " 2   Description  435162 non-null  object \n",
      " 3   Quantity     437885 non-null  int64  \n",
      " 4   InvoiceDate  437885 non-null  object \n",
      " 5   Price        437885 non-null  float64\n",
      " 6   Customer ID  327110 non-null  float64\n",
      " 7   Country      437885 non-null  object \n",
      "dtypes: float64(2), int64(1), object(5)\n",
      "memory usage: 26.7+ MB\n"
     ]
    }
   ],
   "source": [
    "df.info()"
   ]
  },
  {
   "cell_type": "markdown",
   "metadata": {},
   "source": [
    "Understanding the descriptive statistics of the Numeric Columns of the dataset."
   ]
  },
  {
   "cell_type": "code",
   "execution_count": 13,
   "metadata": {},
   "outputs": [
    {
     "data": {
      "text/html": [
       "<div>\n",
       "<style scoped>\n",
       "    .dataframe tbody tr th:only-of-type {\n",
       "        vertical-align: middle;\n",
       "    }\n",
       "\n",
       "    .dataframe tbody tr th {\n",
       "        vertical-align: top;\n",
       "    }\n",
       "\n",
       "    .dataframe thead th {\n",
       "        text-align: right;\n",
       "    }\n",
       "</style>\n",
       "<table border=\"1\" class=\"dataframe\">\n",
       "  <thead>\n",
       "    <tr style=\"text-align: right;\">\n",
       "      <th></th>\n",
       "      <th>Quantity</th>\n",
       "      <th>Price</th>\n",
       "      <th>Customer ID</th>\n",
       "    </tr>\n",
       "  </thead>\n",
       "  <tbody>\n",
       "    <tr>\n",
       "      <th>count</th>\n",
       "      <td>437885.000000</td>\n",
       "      <td>437885.000000</td>\n",
       "      <td>327110.000000</td>\n",
       "    </tr>\n",
       "    <tr>\n",
       "      <th>mean</th>\n",
       "      <td>10.063069</td>\n",
       "      <td>4.955867</td>\n",
       "      <td>15309.727813</td>\n",
       "    </tr>\n",
       "    <tr>\n",
       "      <th>std</th>\n",
       "      <td>184.048278</td>\n",
       "      <td>128.396016</td>\n",
       "      <td>1697.582041</td>\n",
       "    </tr>\n",
       "    <tr>\n",
       "      <th>min</th>\n",
       "      <td>-74215.000000</td>\n",
       "      <td>-53594.360000</td>\n",
       "      <td>12346.000000</td>\n",
       "    </tr>\n",
       "    <tr>\n",
       "      <th>25%</th>\n",
       "      <td>1.000000</td>\n",
       "      <td>1.250000</td>\n",
       "      <td>13901.000000</td>\n",
       "    </tr>\n",
       "    <tr>\n",
       "      <th>50%</th>\n",
       "      <td>3.000000</td>\n",
       "      <td>2.100000</td>\n",
       "      <td>15215.000000</td>\n",
       "    </tr>\n",
       "    <tr>\n",
       "      <th>75%</th>\n",
       "      <td>10.000000</td>\n",
       "      <td>4.250000</td>\n",
       "      <td>16801.000000</td>\n",
       "    </tr>\n",
       "    <tr>\n",
       "      <th>max</th>\n",
       "      <td>74215.000000</td>\n",
       "      <td>25111.090000</td>\n",
       "      <td>18287.000000</td>\n",
       "    </tr>\n",
       "  </tbody>\n",
       "</table>\n",
       "</div>"
      ],
      "text/plain": [
       "            Quantity          Price    Customer ID\n",
       "count  437885.000000  437885.000000  327110.000000\n",
       "mean       10.063069       4.955867   15309.727813\n",
       "std       184.048278     128.396016    1697.582041\n",
       "min    -74215.000000  -53594.360000   12346.000000\n",
       "25%         1.000000       1.250000   13901.000000\n",
       "50%         3.000000       2.100000   15215.000000\n",
       "75%        10.000000       4.250000   16801.000000\n",
       "max     74215.000000   25111.090000   18287.000000"
      ]
     },
     "execution_count": 13,
     "metadata": {},
     "output_type": "execute_result"
    }
   ],
   "source": [
    "df.describe()"
   ]
  },
  {
   "cell_type": "markdown",
   "metadata": {},
   "source": [
    "Getting the column names."
   ]
  },
  {
   "cell_type": "code",
   "execution_count": 14,
   "metadata": {},
   "outputs": [
    {
     "data": {
      "text/plain": [
       "Index(['Invoice', 'StockCode', 'Description', 'Quantity', 'InvoiceDate',\n",
       "       'Price', 'Customer ID', 'Country'],\n",
       "      dtype='object')"
      ]
     },
     "execution_count": 14,
     "metadata": {},
     "output_type": "execute_result"
    }
   ],
   "source": [
    "df.columns"
   ]
  },
  {
   "cell_type": "markdown",
   "metadata": {},
   "source": [
    "Getting the count of null values in the dataset column wise."
   ]
  },
  {
   "cell_type": "code",
   "execution_count": 15,
   "metadata": {},
   "outputs": [
    {
     "data": {
      "text/plain": [
       "Invoice             0\n",
       "StockCode           0\n",
       "Description      2723\n",
       "Quantity            0\n",
       "InvoiceDate         0\n",
       "Price               0\n",
       "Customer ID    110775\n",
       "Country             0\n",
       "dtype: int64"
      ]
     },
     "execution_count": 15,
     "metadata": {},
     "output_type": "execute_result"
    }
   ],
   "source": [
    "df.isna().sum()"
   ]
  },
  {
   "cell_type": "markdown",
   "metadata": {},
   "source": [
    "Filling the null values in the Description column using forward fill method."
   ]
  },
  {
   "cell_type": "code",
   "execution_count": 16,
   "metadata": {},
   "outputs": [
    {
     "name": "stderr",
     "output_type": "stream",
     "text": [
      "C:\\Users\\AyushAcharya\\AppData\\Local\\Temp\\ipykernel_13004\\22673718.py:1: FutureWarning: A value is trying to be set on a copy of a DataFrame or Series through chained assignment using an inplace method.\n",
      "The behavior will change in pandas 3.0. This inplace method will never work because the intermediate object on which we are setting values always behaves as a copy.\n",
      "\n",
      "For example, when doing 'df[col].method(value, inplace=True)', try using 'df.method({col: value}, inplace=True)' or df[col] = df[col].method(value) instead, to perform the operation inplace on the original object.\n",
      "\n",
      "\n",
      "  df[\"Description\"].ffill(inplace=True)\n"
     ]
    }
   ],
   "source": [
    "df[\"Description\"].ffill(inplace=True)"
   ]
  },
  {
   "cell_type": "markdown",
   "metadata": {},
   "source": [
    "Filling the null values in the \"Customer ID\" column using backward fill method."
   ]
  },
  {
   "cell_type": "code",
   "execution_count": 17,
   "metadata": {},
   "outputs": [
    {
     "name": "stderr",
     "output_type": "stream",
     "text": [
      "C:\\Users\\AyushAcharya\\AppData\\Local\\Temp\\ipykernel_13004\\848387308.py:1: FutureWarning: A value is trying to be set on a copy of a DataFrame or Series through chained assignment using an inplace method.\n",
      "The behavior will change in pandas 3.0. This inplace method will never work because the intermediate object on which we are setting values always behaves as a copy.\n",
      "\n",
      "For example, when doing 'df[col].method(value, inplace=True)', try using 'df.method({col: value}, inplace=True)' or df[col] = df[col].method(value) instead, to perform the operation inplace on the original object.\n",
      "\n",
      "\n",
      "  df[\"Customer ID\"].bfill(inplace=True)\n"
     ]
    }
   ],
   "source": [
    "df[\"Customer ID\"].bfill(inplace=True)"
   ]
  },
  {
   "cell_type": "markdown",
   "metadata": {},
   "source": [
    "Getting the null value count in the columns after filling null values."
   ]
  },
  {
   "cell_type": "code",
   "execution_count": 18,
   "metadata": {},
   "outputs": [
    {
     "data": {
      "text/plain": [
       "Invoice        0\n",
       "StockCode      0\n",
       "Description    0\n",
       "Quantity       0\n",
       "InvoiceDate    0\n",
       "Price          0\n",
       "Customer ID    0\n",
       "Country        0\n",
       "dtype: int64"
      ]
     },
     "execution_count": 18,
     "metadata": {},
     "output_type": "execute_result"
    }
   ],
   "source": [
    "df.isna().sum()"
   ]
  },
  {
   "cell_type": "markdown",
   "metadata": {},
   "source": [
    "Getting only the numeric values of the dataset."
   ]
  },
  {
   "cell_type": "code",
   "execution_count": 19,
   "metadata": {},
   "outputs": [
    {
     "data": {
      "text/html": [
       "<div>\n",
       "<style scoped>\n",
       "    .dataframe tbody tr th:only-of-type {\n",
       "        vertical-align: middle;\n",
       "    }\n",
       "\n",
       "    .dataframe tbody tr th {\n",
       "        vertical-align: top;\n",
       "    }\n",
       "\n",
       "    .dataframe thead th {\n",
       "        text-align: right;\n",
       "    }\n",
       "</style>\n",
       "<table border=\"1\" class=\"dataframe\">\n",
       "  <thead>\n",
       "    <tr style=\"text-align: right;\">\n",
       "      <th></th>\n",
       "      <th>Quantity</th>\n",
       "      <th>Price</th>\n",
       "      <th>Customer ID</th>\n",
       "    </tr>\n",
       "  </thead>\n",
       "  <tbody>\n",
       "    <tr>\n",
       "      <th>0</th>\n",
       "      <td>12</td>\n",
       "      <td>6.95</td>\n",
       "      <td>13085.0</td>\n",
       "    </tr>\n",
       "    <tr>\n",
       "      <th>1</th>\n",
       "      <td>12</td>\n",
       "      <td>6.75</td>\n",
       "      <td>13085.0</td>\n",
       "    </tr>\n",
       "    <tr>\n",
       "      <th>2</th>\n",
       "      <td>12</td>\n",
       "      <td>6.75</td>\n",
       "      <td>13085.0</td>\n",
       "    </tr>\n",
       "    <tr>\n",
       "      <th>3</th>\n",
       "      <td>48</td>\n",
       "      <td>2.10</td>\n",
       "      <td>13085.0</td>\n",
       "    </tr>\n",
       "    <tr>\n",
       "      <th>4</th>\n",
       "      <td>24</td>\n",
       "      <td>1.25</td>\n",
       "      <td>13085.0</td>\n",
       "    </tr>\n",
       "    <tr>\n",
       "      <th>...</th>\n",
       "      <td>...</td>\n",
       "      <td>...</td>\n",
       "      <td>...</td>\n",
       "    </tr>\n",
       "    <tr>\n",
       "      <th>437880</th>\n",
       "      <td>-1</td>\n",
       "      <td>2.55</td>\n",
       "      <td>13908.0</td>\n",
       "    </tr>\n",
       "    <tr>\n",
       "      <th>437881</th>\n",
       "      <td>-3</td>\n",
       "      <td>4.95</td>\n",
       "      <td>13908.0</td>\n",
       "    </tr>\n",
       "    <tr>\n",
       "      <th>437882</th>\n",
       "      <td>-3</td>\n",
       "      <td>0.85</td>\n",
       "      <td>13908.0</td>\n",
       "    </tr>\n",
       "    <tr>\n",
       "      <th>437883</th>\n",
       "      <td>-3</td>\n",
       "      <td>4.25</td>\n",
       "      <td>13320.0</td>\n",
       "    </tr>\n",
       "    <tr>\n",
       "      <th>437884</th>\n",
       "      <td>-3</td>\n",
       "      <td>1.95</td>\n",
       "      <td>13320.0</td>\n",
       "    </tr>\n",
       "  </tbody>\n",
       "</table>\n",
       "<p>437885 rows × 3 columns</p>\n",
       "</div>"
      ],
      "text/plain": [
       "        Quantity  Price  Customer ID\n",
       "0             12   6.95      13085.0\n",
       "1             12   6.75      13085.0\n",
       "2             12   6.75      13085.0\n",
       "3             48   2.10      13085.0\n",
       "4             24   1.25      13085.0\n",
       "...          ...    ...          ...\n",
       "437880        -1   2.55      13908.0\n",
       "437881        -3   4.95      13908.0\n",
       "437882        -3   0.85      13908.0\n",
       "437883        -3   4.25      13320.0\n",
       "437884        -3   1.95      13320.0\n",
       "\n",
       "[437885 rows x 3 columns]"
      ]
     },
     "execution_count": 19,
     "metadata": {},
     "output_type": "execute_result"
    }
   ],
   "source": [
    "numeric_cols=df.select_dtypes(include=(\"int64\",\"float64\"))\n",
    "numeric_cols"
   ]
  },
  {
   "cell_type": "markdown",
   "metadata": {},
   "source": [
    "Calculating the Descriptive Statistics of the numeric cols using numpy functions."
   ]
  },
  {
   "cell_type": "code",
   "execution_count": 20,
   "metadata": {},
   "outputs": [
    {
     "name": "stdout",
     "output_type": "stream",
     "text": [
      "Mean Value of Quantity is :  10.06\n"
     ]
    }
   ],
   "source": [
    "mean_val_Quantity=np.mean(df[\"Quantity\"])\n",
    "mean_val_Price=np.mean(df[\"Price\"])\n",
    "med_Quantity=np.median(df[\"Quantity\"])\n",
    "med_Price=np.median(df[\"Price\"])\n",
    "std_Quantity=np.std(df[\"Quantity\"])\n",
    "std_Price=np.std(df[\"Price\"])\n",
    "min_Quantity=np.min(df[\"Quantity\"])\n",
    "max_Quantiy=np.max(df[\"Quantity\"])\n",
    "min_Price=np.min(df[\"Price\"])\n",
    "max_Price=np.max(df[\"Price\"])\n",
    "print(\"Mean Value of Quantity is : \",mean_val_Quantity.round(2))"
   ]
  },
  {
   "cell_type": "markdown",
   "metadata": {},
   "source": [
    "Displaying the descriptive statistics."
   ]
  },
  {
   "cell_type": "code",
   "execution_count": 21,
   "metadata": {},
   "outputs": [
    {
     "name": "stdout",
     "output_type": "stream",
     "text": [
      "\n",
      "Descriptive Statistics of Quantity and Price Columns are :\n",
      "\n",
      "Mean Value of Quantity is :  10.06\n",
      "\n",
      "Mean Value of Price is :  4.96\n",
      "\n",
      "Median Value of Quantity is :  3.0\n",
      "\n",
      "Median Value of Price is :  2.1\n",
      "\n",
      "Standard Deviation of Quantity is :  184.04806749870673\n",
      "\n",
      "Standard Deviation of Price is :  128.39586908359078\n",
      "\n",
      "Min and Max Values of Quantity are :  -74215  and  74215\n",
      "\n",
      "Min and Max Values of Price are :  -53594.36  and  25111.09\n"
     ]
    }
   ],
   "source": [
    "print(\"\\nDescriptive Statistics of Quantity and Price Columns are :\\n\")\n",
    "print(\"Mean Value of Quantity is : \",mean_val_Quantity.round(2))\n",
    "print(\"\\nMean Value of Price is : \",mean_val_Price.round(2))\n",
    "print(\"\\nMedian Value of Quantity is : \",med_Quantity)\n",
    "print(\"\\nMedian Value of Price is : \",med_Price)\n",
    "print(\"\\nStandard Deviation of Quantity is : \",std_Quantity)\n",
    "print(\"\\nStandard Deviation of Price is : \",std_Price)\n",
    "print(\"\\nMin and Max Values of Quantity are : \",min_Quantity,\" and \",max_Quantiy)\n",
    "print(\"\\nMin and Max Values of Price are : \",min_Price,\" and \",max_Price)"
   ]
  },
  {
   "cell_type": "code",
   "execution_count": 22,
   "metadata": {},
   "outputs": [],
   "source": [
    "# We need to convert the Invoice date in a proper datetime format for future use with the day keeping first.\n",
    "df[\"InvoiceDate\"]=pd.to_datetime(df[\"InvoiceDate\"],dayfirst=True)"
   ]
  },
  {
   "cell_type": "code",
   "execution_count": 23,
   "metadata": {},
   "outputs": [
    {
     "data": {
      "text/plain": [
       "0        2009-12-01 07:45:00\n",
       "1        2009-12-01 07:45:00\n",
       "2        2009-12-01 07:45:00\n",
       "3        2009-12-01 07:45:00\n",
       "4        2009-12-01 07:45:00\n",
       "                 ...        \n",
       "437880   2011-05-12 19:43:00\n",
       "437881   2011-05-12 19:43:00\n",
       "437882   2011-05-12 19:43:00\n",
       "437883   2011-05-12 19:44:00\n",
       "437884   2011-05-12 19:44:00\n",
       "Name: InvoiceDate, Length: 437885, dtype: datetime64[ns]"
      ]
     },
     "execution_count": 23,
     "metadata": {},
     "output_type": "execute_result"
    }
   ],
   "source": [
    "df[\"InvoiceDate\"]   # Ensuring the dataset is updated "
   ]
  },
  {
   "cell_type": "markdown",
   "metadata": {},
   "source": [
    "Filtering the dates and keeping only the data having the Invoice Dates between the Start and End Date."
   ]
  },
  {
   "cell_type": "code",
   "execution_count": 24,
   "metadata": {},
   "outputs": [
    {
     "data": {
      "text/plain": [
       "<Axes: title={'center': 'Time Series of Price'}, xlabel='InvoiceDate'>"
      ]
     },
     "execution_count": 24,
     "metadata": {},
     "output_type": "execute_result"
    },
    {
     "data": {
      "image/png": "[encoded data removed]",
      "text/plain": [
       "<Figure size 640x480 with 1 Axes>"
      ]
     },
     "metadata": {},
     "output_type": "display_data"
    }
   ],
   "source": [
    "start_date = \"2009-12-01\"   # The start date\n",
    "end_date = \"2009-12-02\"     # The end date\n",
    "df_filtered=df[(df[\"InvoiceDate\"] >= start_date) & (df[\"InvoiceDate\"]<=end_date)]   # storing only the dates between start and end date\n",
    "\n",
    "# Set the 'InvoiceDate' column as the index of the DataFrame\n",
    "# This is useful for time series analysis and operations that require date-based indexing\n",
    "df_filtered.set_index(\"InvoiceDate\",inplace=True)   \n",
    "\n",
    "# Plot the first 20 rows of the 'Price' column as a bar chart\n",
    "# 'x' and 'y' parameters are not needed here as the index is already set to 'InvoiceDate'\n",
    "df_filtered.head(20)[\"Price\"].plot(x=\"InvoiceDate\", y=\"Price\",title=\"Time Series of Price\",kind=\"bar\")\n"
   ]
  },
  {
   "cell_type": "markdown",
   "metadata": {},
   "source": [
    "Keeping the data part only that has Quantity less than 1000 and Year 2011."
   ]
  },
  {
   "cell_type": "code",
   "execution_count": 25,
   "metadata": {},
   "outputs": [
    {
     "data": {
      "text/plain": [
       "<Axes: title={'center': 'Time Series of Price'}, xlabel='InvoiceDate'>"
      ]
     },
     "execution_count": 25,
     "metadata": {},
     "output_type": "execute_result"
    },
    {
     "data": {
      "image/png": "[encoded data removed]",
      "text/plain": [
       "<Figure size 640x480 with 1 Axes>"
      ]
     },
     "metadata": {},
     "output_type": "display_data"
    }
   ],
   "source": [
    "# Filter the DataFrame for rows where 'Quantity' is less than 1000 and 'InvoiceDate' is in the year 2011\n",
    "df_new=df[(df[\"Quantity\"]<1000) & (df[\"InvoiceDate\"].dt.year==2011)]\n",
    "\n",
    "# Set the 'InvoiceDate' column as the index of the filtered DataFrame\n",
    "df_new.set_index(\"InvoiceDate\",inplace=True)\n",
    "\n",
    "# Plot the first 15 rows of the 'Price' column as a bar chart\n",
    "# 'x' and 'y' parameters are not needed here as the index is already set to 'InvoiceDate'\n",
    "df_new.head(15)[\"Price\"].plot(title=\"Time Series of Price\",kind=\"bar\")"
   ]
  },
  {
   "cell_type": "markdown",
   "metadata": {},
   "source": [
    "Calculating the Total Price for the Products by Price*Quantity"
   ]
  },
  {
   "cell_type": "code",
   "execution_count": 26,
   "metadata": {},
   "outputs": [
    {
     "data": {
      "text/html": [
       "<div>\n",
       "<style scoped>\n",
       "    .dataframe tbody tr th:only-of-type {\n",
       "        vertical-align: middle;\n",
       "    }\n",
       "\n",
       "    .dataframe tbody tr th {\n",
       "        vertical-align: top;\n",
       "    }\n",
       "\n",
       "    .dataframe thead th {\n",
       "        text-align: right;\n",
       "    }\n",
       "</style>\n",
       "<table border=\"1\" class=\"dataframe\">\n",
       "  <thead>\n",
       "    <tr style=\"text-align: right;\">\n",
       "      <th></th>\n",
       "      <th>Invoice</th>\n",
       "      <th>StockCode</th>\n",
       "      <th>Description</th>\n",
       "      <th>Quantity</th>\n",
       "      <th>InvoiceDate</th>\n",
       "      <th>Price</th>\n",
       "      <th>Customer ID</th>\n",
       "      <th>Country</th>\n",
       "      <th>Total_Amount</th>\n",
       "    </tr>\n",
       "  </thead>\n",
       "  <tbody>\n",
       "    <tr>\n",
       "      <th>0</th>\n",
       "      <td>489434</td>\n",
       "      <td>85048</td>\n",
       "      <td>15CM CHRISTMAS GLASS BALL 20 LIGHTS</td>\n",
       "      <td>12</td>\n",
       "      <td>2009-12-01 07:45:00</td>\n",
       "      <td>6.95</td>\n",
       "      <td>13085.0</td>\n",
       "      <td>United Kingdom</td>\n",
       "      <td>83.40</td>\n",
       "    </tr>\n",
       "    <tr>\n",
       "      <th>1</th>\n",
       "      <td>489434</td>\n",
       "      <td>79323P</td>\n",
       "      <td>PINK CHERRY LIGHTS</td>\n",
       "      <td>12</td>\n",
       "      <td>2009-12-01 07:45:00</td>\n",
       "      <td>6.75</td>\n",
       "      <td>13085.0</td>\n",
       "      <td>United Kingdom</td>\n",
       "      <td>81.00</td>\n",
       "    </tr>\n",
       "    <tr>\n",
       "      <th>2</th>\n",
       "      <td>489434</td>\n",
       "      <td>79323W</td>\n",
       "      <td>WHITE CHERRY LIGHTS</td>\n",
       "      <td>12</td>\n",
       "      <td>2009-12-01 07:45:00</td>\n",
       "      <td>6.75</td>\n",
       "      <td>13085.0</td>\n",
       "      <td>United Kingdom</td>\n",
       "      <td>81.00</td>\n",
       "    </tr>\n",
       "    <tr>\n",
       "      <th>3</th>\n",
       "      <td>489434</td>\n",
       "      <td>22041</td>\n",
       "      <td>RECORD FRAME 7\" SINGLE SIZE</td>\n",
       "      <td>48</td>\n",
       "      <td>2009-12-01 07:45:00</td>\n",
       "      <td>2.10</td>\n",
       "      <td>13085.0</td>\n",
       "      <td>United Kingdom</td>\n",
       "      <td>100.80</td>\n",
       "    </tr>\n",
       "    <tr>\n",
       "      <th>4</th>\n",
       "      <td>489434</td>\n",
       "      <td>21232</td>\n",
       "      <td>STRAWBERRY CERAMIC TRINKET BOX</td>\n",
       "      <td>24</td>\n",
       "      <td>2009-12-01 07:45:00</td>\n",
       "      <td>1.25</td>\n",
       "      <td>13085.0</td>\n",
       "      <td>United Kingdom</td>\n",
       "      <td>30.00</td>\n",
       "    </tr>\n",
       "    <tr>\n",
       "      <th>...</th>\n",
       "      <td>...</td>\n",
       "      <td>...</td>\n",
       "      <td>...</td>\n",
       "      <td>...</td>\n",
       "      <td>...</td>\n",
       "      <td>...</td>\n",
       "      <td>...</td>\n",
       "      <td>...</td>\n",
       "      <td>...</td>\n",
       "    </tr>\n",
       "    <tr>\n",
       "      <th>437880</th>\n",
       "      <td>C553031</td>\n",
       "      <td>22300</td>\n",
       "      <td>COFFEE MUG DOG + BALL DESIGN</td>\n",
       "      <td>-1</td>\n",
       "      <td>2011-05-12 19:43:00</td>\n",
       "      <td>2.55</td>\n",
       "      <td>13908.0</td>\n",
       "      <td>United Kingdom</td>\n",
       "      <td>-2.55</td>\n",
       "    </tr>\n",
       "    <tr>\n",
       "      <th>437881</th>\n",
       "      <td>C553031</td>\n",
       "      <td>21533</td>\n",
       "      <td>RETROSPOT LARGE MILK JUG</td>\n",
       "      <td>-3</td>\n",
       "      <td>2011-05-12 19:43:00</td>\n",
       "      <td>4.95</td>\n",
       "      <td>13908.0</td>\n",
       "      <td>United Kingdom</td>\n",
       "      <td>-14.85</td>\n",
       "    </tr>\n",
       "    <tr>\n",
       "      <th>437882</th>\n",
       "      <td>C553031</td>\n",
       "      <td>21240</td>\n",
       "      <td>BLUE POLKADOT CUP</td>\n",
       "      <td>-3</td>\n",
       "      <td>2011-05-12 19:43:00</td>\n",
       "      <td>0.85</td>\n",
       "      <td>13908.0</td>\n",
       "      <td>United Kingdom</td>\n",
       "      <td>-2.55</td>\n",
       "    </tr>\n",
       "    <tr>\n",
       "      <th>437883</th>\n",
       "      <td>C553032</td>\n",
       "      <td>22891</td>\n",
       "      <td>TEA FOR ONE POLKADOT</td>\n",
       "      <td>-3</td>\n",
       "      <td>2011-05-12 19:44:00</td>\n",
       "      <td>4.25</td>\n",
       "      <td>13320.0</td>\n",
       "      <td>United Kingdom</td>\n",
       "      <td>-12.75</td>\n",
       "    </tr>\n",
       "    <tr>\n",
       "      <th>437884</th>\n",
       "      <td>C553032</td>\n",
       "      <td>22631</td>\n",
       "      <td>CIRCUS PARADE LUNCH BOX</td>\n",
       "      <td>-3</td>\n",
       "      <td>2011-05-12 19:44:00</td>\n",
       "      <td>1.95</td>\n",
       "      <td>13320.0</td>\n",
       "      <td>United Kingdom</td>\n",
       "      <td>-5.85</td>\n",
       "    </tr>\n",
       "  </tbody>\n",
       "</table>\n",
       "<p>437885 rows × 9 columns</p>\n",
       "</div>"
      ],
      "text/plain": [
       "        Invoice StockCode                          Description  Quantity  \\\n",
       "0        489434     85048  15CM CHRISTMAS GLASS BALL 20 LIGHTS        12   \n",
       "1        489434    79323P                   PINK CHERRY LIGHTS        12   \n",
       "2        489434    79323W                  WHITE CHERRY LIGHTS        12   \n",
       "3        489434     22041         RECORD FRAME 7\" SINGLE SIZE         48   \n",
       "4        489434     21232       STRAWBERRY CERAMIC TRINKET BOX        24   \n",
       "...         ...       ...                                  ...       ...   \n",
       "437880  C553031     22300         COFFEE MUG DOG + BALL DESIGN        -1   \n",
       "437881  C553031     21533             RETROSPOT LARGE MILK JUG        -3   \n",
       "437882  C553031     21240                    BLUE POLKADOT CUP        -3   \n",
       "437883  C553032     22891                 TEA FOR ONE POLKADOT        -3   \n",
       "437884  C553032     22631             CIRCUS PARADE LUNCH BOX         -3   \n",
       "\n",
       "               InvoiceDate  Price  Customer ID         Country  Total_Amount  \n",
       "0      2009-12-01 07:45:00   6.95      13085.0  United Kingdom         83.40  \n",
       "1      2009-12-01 07:45:00   6.75      13085.0  United Kingdom         81.00  \n",
       "2      2009-12-01 07:45:00   6.75      13085.0  United Kingdom         81.00  \n",
       "3      2009-12-01 07:45:00   2.10      13085.0  United Kingdom        100.80  \n",
       "4      2009-12-01 07:45:00   1.25      13085.0  United Kingdom         30.00  \n",
       "...                    ...    ...          ...             ...           ...  \n",
       "437880 2011-05-12 19:43:00   2.55      13908.0  United Kingdom         -2.55  \n",
       "437881 2011-05-12 19:43:00   4.95      13908.0  United Kingdom        -14.85  \n",
       "437882 2011-05-12 19:43:00   0.85      13908.0  United Kingdom         -2.55  \n",
       "437883 2011-05-12 19:44:00   4.25      13320.0  United Kingdom        -12.75  \n",
       "437884 2011-05-12 19:44:00   1.95      13320.0  United Kingdom         -5.85  \n",
       "\n",
       "[437885 rows x 9 columns]"
      ]
     },
     "execution_count": 26,
     "metadata": {},
     "output_type": "execute_result"
    }
   ],
   "source": [
    "df[\"Total_Amount\"]=df[\"Quantity\"]*df[\"Price\"]\n",
    "df"
   ]
  },
  {
   "cell_type": "code",
   "execution_count": 27,
   "metadata": {},
   "outputs": [
    {
     "data": {
      "text/html": [
       "<div>\n",
       "<style scoped>\n",
       "    .dataframe tbody tr th:only-of-type {\n",
       "        vertical-align: middle;\n",
       "    }\n",
       "\n",
       "    .dataframe tbody tr th {\n",
       "        vertical-align: top;\n",
       "    }\n",
       "\n",
       "    .dataframe thead th {\n",
       "        text-align: right;\n",
       "    }\n",
       "</style>\n",
       "<table border=\"1\" class=\"dataframe\">\n",
       "  <thead>\n",
       "    <tr style=\"text-align: right;\">\n",
       "      <th></th>\n",
       "      <th>Total_Amount</th>\n",
       "    </tr>\n",
       "    <tr>\n",
       "      <th>Description</th>\n",
       "      <th></th>\n",
       "    </tr>\n",
       "  </thead>\n",
       "  <tbody>\n",
       "    <tr>\n",
       "      <th>DOORMAT UNION JACK GUNS AND ROSES</th>\n",
       "      <td>1206.81</td>\n",
       "    </tr>\n",
       "    <tr>\n",
       "      <th>3 STRIPEY MICE FELTCRAFT</th>\n",
       "      <td>1328.38</td>\n",
       "    </tr>\n",
       "    <tr>\n",
       "      <th>4 PURPLE FLOCK DINNER CANDLES</th>\n",
       "      <td>73.87</td>\n",
       "    </tr>\n",
       "    <tr>\n",
       "      <th>ANIMAL STICKERS</th>\n",
       "      <td>80.85</td>\n",
       "    </tr>\n",
       "    <tr>\n",
       "      <th>BLACK PIRATE TREASURE CHEST</th>\n",
       "      <td>111.78</td>\n",
       "    </tr>\n",
       "    <tr>\n",
       "      <th>BROWN  PIRATE TREASURE CHEST</th>\n",
       "      <td>138.22</td>\n",
       "    </tr>\n",
       "    <tr>\n",
       "      <th>Bank Charges</th>\n",
       "      <td>-2068.96</td>\n",
       "    </tr>\n",
       "    <tr>\n",
       "      <th>CAMPHOR WOOD PORTOBELLO MUSHROOM</th>\n",
       "      <td>122.36</td>\n",
       "    </tr>\n",
       "    <tr>\n",
       "      <th>CHERRY BLOSSOM  DECORATIVE FLASK</th>\n",
       "      <td>1100.42</td>\n",
       "    </tr>\n",
       "    <tr>\n",
       "      <th>FAIRY CAKE CANDLES</th>\n",
       "      <td>202.05</td>\n",
       "    </tr>\n",
       "  </tbody>\n",
       "</table>\n",
       "</div>"
      ],
      "text/plain": [
       "                                    Total_Amount\n",
       "Description                                     \n",
       " DOORMAT UNION JACK GUNS AND ROSES       1206.81\n",
       "3 STRIPEY MICE FELTCRAFT                 1328.38\n",
       "4 PURPLE FLOCK DINNER CANDLES              73.87\n",
       "ANIMAL STICKERS                            80.85\n",
       "BLACK PIRATE TREASURE CHEST               111.78\n",
       "BROWN  PIRATE TREASURE CHEST              138.22\n",
       "Bank Charges                            -2068.96\n",
       "CAMPHOR WOOD PORTOBELLO MUSHROOM          122.36\n",
       "CHERRY BLOSSOM  DECORATIVE FLASK         1100.42\n",
       "FAIRY CAKE CANDLES                        202.05"
      ]
     },
     "execution_count": 27,
     "metadata": {},
     "output_type": "execute_result"
    }
   ],
   "source": [
    "# Create a pivot table to sum the 'Total_Amount' for each 'Description'\n",
    "pivot_table = pd.pivot_table(df,values=\"Total_Amount\", index=\"Description\", aggfunc=\"sum\")\n",
    "\n",
    "# Displaying the Pivot table\n",
    "pivot_table.head(10)"
   ]
  },
  {
   "cell_type": "markdown",
   "metadata": {},
   "source": [
    "Calculating the total price for each country and displaying the country with highest price and for which product."
   ]
  },
  {
   "cell_type": "code",
   "execution_count": 28,
   "metadata": {},
   "outputs": [
    {
     "name": "stdout",
     "output_type": "stream",
     "text": [
      "The country with the highest total price is \"United Kingdom\" for the product wrongly sold sets.\n"
     ]
    }
   ],
   "source": [
    "# Create a pivot table to aggregate 'Price' and 'Description' by 'Country'\n",
    "# 'Price' is summed, and the maximum 'Description' (alphabetically last) is selected\n",
    "pivot_table_new = pd.pivot_table(df, values=[\"Price\", \"Description\"], index=\"Country\", aggfunc={\"Price\": \"sum\", \"Description\": \"max\"})\n",
    "\n",
    "# Sort the pivot table by 'Price' in descending order\n",
    "sorted_table=pivot_table_new.sort_values(by=\"Price\",ascending=False)\n",
    "\n",
    "# Get the country with the highest total price\n",
    "highest_price_country = sorted_table.index[0]\n",
    "\n",
    "# Get the product description for the country with the highest total price\n",
    "highest_price_product = sorted_table.iloc[0][\"Description\"]\n",
    "\n",
    "# Displaying the country with HIghest price and the product.\n",
    "print(f\"The country with the highest total price is \\\"{highest_price_country}\\\" for the product {highest_price_product}.\")"
   ]
  },
  {
   "cell_type": "markdown",
   "metadata": {},
   "source": [
    "Another Method for finding the country with highest price and the relatd product."
   ]
  },
  {
   "cell_type": "code",
   "execution_count": 29,
   "metadata": {},
   "outputs": [
    {
     "name": "stdout",
     "output_type": "stream",
     "text": [
      "The country with the highest total price is United Kingdom for the product wrongly sold sets.\n"
     ]
    }
   ],
   "source": [
    "# Group the DataFrame by 'Country' and aggregate 'Total_Amount' and 'Description'\n",
    "# 'Total_Amount' is summed, and the maximum 'Description' (alphabetically last) is selected\n",
    "grouped_df = df.groupby(\"Country\").agg({\"Total_Amount\": \"sum\", \"Description\": \"max\"}).reset_index()\n",
    "\n",
    "# Sort the grouped DataFrame by Total_Amount in descending order\n",
    "sorted_grouped_df = grouped_df.sort_values(by=\"Total_Amount\", ascending=False)\n",
    "\n",
    "# Print the sorted grouped DataFrame\n",
    "# print(sorted_grouped_df)\n",
    "\n",
    "# Get the country with the highest total amount and the corresponding product\n",
    "highest_price_country = sorted_grouped_df.iloc[0][\"Country\"]\n",
    "highest_price_product = sorted_grouped_df.iloc[0][\"Description\"]\n",
    "\n",
    "print(f\"The country with the highest total price is {highest_price_country} for the product {highest_price_product}.\")"
   ]
  },
  {
   "cell_type": "markdown",
   "metadata": {},
   "source": [
    "Filtering the dataset to include the data only of the year 2010."
   ]
  },
  {
   "cell_type": "code",
   "execution_count": 30,
   "metadata": {},
   "outputs": [],
   "source": [
    "# Adding a new column Year to the dataset by using the dt.year function.\n",
    "df[\"Year\"]=df[\"InvoiceDate\"].dt.year\n",
    "\n",
    "# Adding the data of only 2010 year and price greater than 0.5 as the price values are lower even in negative and as less as 0.001\n",
    "df_new_2=df[(df[\"Year\"]==2010) & (df[\"Price\"]>0.5)]"
   ]
  },
  {
   "cell_type": "markdown",
   "metadata": {},
   "source": [
    "Calculating the top 10 products with minimum price in the year 2010."
   ]
  },
  {
   "cell_type": "code",
   "execution_count": 31,
   "metadata": {},
   "outputs": [
    {
     "name": "stdout",
     "output_type": "stream",
     "text": [
      "       Invoice StockCode                  Description  Quantity  \\\n",
      "246790  513283     15036    ASSORTED COLOURS SILK FAN       600   \n",
      "197617  508378     15036    ASSORTED COLOURS SILK FAN       408   \n",
      "199282  508501     21086  SET/6 RED SPOTTY PAPER CUPS       216   \n",
      "103297  499248     15036    ASSORTED COLOURS SILK FAN        48   \n",
      "236956  512321     21086  SET/6 RED SPOTTY PAPER CUPS       216   \n",
      "102389  499170     21987   PACK OF 6 SKULL PAPER CUPS       216   \n",
      "69991   495591     21085    SET/6 WOODLAND PAPER CUPS       288   \n",
      "148521  503542     21086  SET/6 RED SPOTTY PAPER CUPS       216   \n",
      "107510  499685     21085    SET/6 WOODLAND PAPER CUPS       216   \n",
      "67039   495359     21086  SET/6 RED SPOTTY PAPER CUPS       216   \n",
      "\n",
      "               InvoiceDate  Price  Customer ID         Country  Total_Amount  \\\n",
      "246790 2010-06-23 13:36:00   0.52      17414.0  United Kingdom        312.00   \n",
      "197617 2010-05-14 13:51:00   0.52      17414.0  United Kingdom        212.16   \n",
      "199282 2010-05-16 15:39:00   0.53      13798.0  United Kingdom        114.48   \n",
      "103297 2010-02-25 14:18:00   0.53      14298.0  United Kingdom         25.44   \n",
      "236956 2010-06-15 09:33:00   0.53      16422.0  United Kingdom        114.48   \n",
      "102389 2010-02-25 09:40:00   0.53      16118.0  United Kingdom        114.48   \n",
      "69991  2010-01-26 10:25:00   0.53      14646.0     Netherlands        152.64   \n",
      "148521 2010-04-01 14:19:00   0.53      14646.0     Netherlands        114.48   \n",
      "107510 2010-03-02 10:04:00   0.53      14646.0     Netherlands        114.48   \n",
      "67039  2010-01-24 11:58:00   0.53      16422.0  United Kingdom        114.48   \n",
      "\n",
      "        Year  \n",
      "246790  2010  \n",
      "197617  2010  \n",
      "199282  2010  \n",
      "103297  2010  \n",
      "236956  2010  \n",
      "102389  2010  \n",
      "69991   2010  \n",
      "148521  2010  \n",
      "107510  2010  \n",
      "67039   2010  \n"
     ]
    }
   ],
   "source": [
    "# Sort by Price in ascending order to find products with minimum prices\n",
    "sorted_df_2010 = df_new_2.sort_values(by=\"Price\", ascending=True)\n",
    "\n",
    "# Select the top 10 products with the minimum price\n",
    "top_10_min_price_products = sorted_df_2010.head(10)\n",
    "\n",
    "# Print the top 10 products\n",
    "print(top_10_min_price_products)"
   ]
  },
  {
   "cell_type": "markdown",
   "metadata": {},
   "source": [
    "##### 3.Write python program to extract email address from dataframe column. "
   ]
  },
  {
   "cell_type": "code",
   "execution_count": 32,
   "metadata": {},
   "outputs": [
    {
     "data": {
      "text/html": [
       "<div>\n",
       "<style scoped>\n",
       "    .dataframe tbody tr th:only-of-type {\n",
       "        vertical-align: middle;\n",
       "    }\n",
       "\n",
       "    .dataframe tbody tr th {\n",
       "        vertical-align: top;\n",
       "    }\n",
       "\n",
       "    .dataframe thead th {\n",
       "        text-align: right;\n",
       "    }\n",
       "</style>\n",
       "<table border=\"1\" class=\"dataframe\">\n",
       "  <thead>\n",
       "    <tr style=\"text-align: right;\">\n",
       "      <th></th>\n",
       "      <th>Company Name</th>\n",
       "      <th>Description</th>\n",
       "    </tr>\n",
       "  </thead>\n",
       "  <tbody>\n",
       "    <tr>\n",
       "      <th>0</th>\n",
       "      <td>Tata Motors</td>\n",
       "      <td>Contact us at support@tata.com for Car Related...</td>\n",
       "    </tr>\n",
       "    <tr>\n",
       "      <th>1</th>\n",
       "      <td>Bajaj Auto</td>\n",
       "      <td>For new enquiries about Models feel free to co...</td>\n",
       "    </tr>\n",
       "    <tr>\n",
       "      <th>2</th>\n",
       "      <td>Audi</td>\n",
       "      <td>Reach out us at info@audi.com</td>\n",
       "    </tr>\n",
       "    <tr>\n",
       "      <th>3</th>\n",
       "      <td>BMW Moto Corp</td>\n",
       "      <td>Reach out us at bmw.careers@info.com</td>\n",
       "    </tr>\n",
       "    <tr>\n",
       "      <th>4</th>\n",
       "      <td>Jaguar</td>\n",
       "      <td>Car Issues? Contact us at support@jaguar.org</td>\n",
       "    </tr>\n",
       "    <tr>\n",
       "      <th>5</th>\n",
       "      <td>Mercedes</td>\n",
       "      <td>Feel free to mail us at helpdesk.mercedes@admi...</td>\n",
       "    </tr>\n",
       "  </tbody>\n",
       "</table>\n",
       "</div>"
      ],
      "text/plain": [
       "    Company Name                                        Description\n",
       "0    Tata Motors  Contact us at support@tata.com for Car Related...\n",
       "1     Bajaj Auto  For new enquiries about Models feel free to co...\n",
       "2           Audi                      Reach out us at info@audi.com\n",
       "3  BMW Moto Corp               Reach out us at bmw.careers@info.com\n",
       "4         Jaguar       Car Issues? Contact us at support@jaguar.org\n",
       "5       Mercedes  Feel free to mail us at helpdesk.mercedes@admi..."
      ]
     },
     "execution_count": 32,
     "metadata": {},
     "output_type": "execute_result"
    }
   ],
   "source": [
    "# Creating a dictionary with company names and their respective descriptions\n",
    "data={\"Company Name\" : [\"Tata Motors\",\"Bajaj Auto\",\"Audi\",\"BMW Moto Corp\",\"Jaguar\",\"Mercedes\"],\n",
    "    \"Description\" : [\"Contact us at support@tata.com for Car Related Issues\",\"For new enquiries about Models feel free to contact us at info@bajaj.com\",\"Reach out us at info@audi.com\",\n",
    "                     \"Reach out us at bmw.careers@info.com\",\"Car Issues? Contact us at support@jaguar.org\",\"Feel free to mail us at helpdesk.mercedes@admin.org\"]}\n",
    "\n",
    "# Converting the dictionary into a pandas DataFrame\n",
    "Company_df=pd.DataFrame(data)\n",
    "\n",
    "# Displaying the dataframe.\n",
    "Company_df"
   ]
  },
  {
   "cell_type": "code",
   "execution_count": 33,
   "metadata": {},
   "outputs": [],
   "source": [
    "def email_extract(df):\n",
    "    \"\"\"\n",
    "    Extracts email addresses from a given string (or DataFrame column) and returns them as a comma-separated list.\n",
    "\n",
    "    Args:\n",
    "    df (pd.Series): The input data from which email addresses will be extracted. It can be \n",
    "    a pandas Series (typically a column containing text or descriptions).\n",
    "\n",
    "    Returns:\n",
    "    str: A comma-separated string of found email addresses. If no email is found, returns None.\n",
    "    \"\"\"\n",
    "\n",
    "    # Define a regular expression pattern for extracting email addresses\n",
    "    # Regex pattern to match email addresses: local_part@domain.TLD\n",
    "    # Matches letters, digits, periods, and underscores in both parts, with TLD being at least 2 characters long\n",
    "    email_pattern=r'[a-zA-Z0-9._]+@[a-zA-Z0-9._]+\\.[a-z]{2,}'\n",
    "\n",
    "     # Use re.findall() to find all occurrences of the email pattern in the input data\n",
    "    emails=re.findall(email_pattern,df)\n",
    "\n",
    "    # If emails are found, join them with a comma and return; otherwise, return None\n",
    "    return ', '.join(emails) if emails else None\n"
   ]
  },
  {
   "cell_type": "code",
   "execution_count": 34,
   "metadata": {},
   "outputs": [
    {
     "data": {
      "text/html": [
       "<div>\n",
       "<style scoped>\n",
       "    .dataframe tbody tr th:only-of-type {\n",
       "        vertical-align: middle;\n",
       "    }\n",
       "\n",
       "    .dataframe tbody tr th {\n",
       "        vertical-align: top;\n",
       "    }\n",
       "\n",
       "    .dataframe thead th {\n",
       "        text-align: right;\n",
       "    }\n",
       "</style>\n",
       "<table border=\"1\" class=\"dataframe\">\n",
       "  <thead>\n",
       "    <tr style=\"text-align: right;\">\n",
       "      <th></th>\n",
       "      <th>Company Name</th>\n",
       "      <th>Description</th>\n",
       "      <th>Emails</th>\n",
       "    </tr>\n",
       "  </thead>\n",
       "  <tbody>\n",
       "    <tr>\n",
       "      <th>0</th>\n",
       "      <td>Tata Motors</td>\n",
       "      <td>Contact us at support@tata.com for Car Related...</td>\n",
       "      <td>support@tata.com</td>\n",
       "    </tr>\n",
       "    <tr>\n",
       "      <th>1</th>\n",
       "      <td>Bajaj Auto</td>\n",
       "      <td>For new enquiries about Models feel free to co...</td>\n",
       "      <td>info@bajaj.com</td>\n",
       "    </tr>\n",
       "    <tr>\n",
       "      <th>2</th>\n",
       "      <td>Audi</td>\n",
       "      <td>Reach out us at info@audi.com</td>\n",
       "      <td>info@audi.com</td>\n",
       "    </tr>\n",
       "    <tr>\n",
       "      <th>3</th>\n",
       "      <td>BMW Moto Corp</td>\n",
       "      <td>Reach out us at bmw.careers@info.com</td>\n",
       "      <td>bmw.careers@info.com</td>\n",
       "    </tr>\n",
       "    <tr>\n",
       "      <th>4</th>\n",
       "      <td>Jaguar</td>\n",
       "      <td>Car Issues? Contact us at support@jaguar.org</td>\n",
       "      <td>support@jaguar.org</td>\n",
       "    </tr>\n",
       "    <tr>\n",
       "      <th>5</th>\n",
       "      <td>Mercedes</td>\n",
       "      <td>Feel free to mail us at helpdesk.mercedes@admi...</td>\n",
       "      <td>helpdesk.mercedes@admin.org</td>\n",
       "    </tr>\n",
       "  </tbody>\n",
       "</table>\n",
       "</div>"
      ],
      "text/plain": [
       "    Company Name                                        Description  \\\n",
       "0    Tata Motors  Contact us at support@tata.com for Car Related...   \n",
       "1     Bajaj Auto  For new enquiries about Models feel free to co...   \n",
       "2           Audi                      Reach out us at info@audi.com   \n",
       "3  BMW Moto Corp               Reach out us at bmw.careers@info.com   \n",
       "4         Jaguar       Car Issues? Contact us at support@jaguar.org   \n",
       "5       Mercedes  Feel free to mail us at helpdesk.mercedes@admi...   \n",
       "\n",
       "                        Emails  \n",
       "0             support@tata.com  \n",
       "1               info@bajaj.com  \n",
       "2                info@audi.com  \n",
       "3         bmw.careers@info.com  \n",
       "4           support@jaguar.org  \n",
       "5  helpdesk.mercedes@admin.org  "
      ]
     },
     "execution_count": 34,
     "metadata": {},
     "output_type": "execute_result"
    }
   ],
   "source": [
    "# Apply the email_extract function to the \"Description\" column of the DataFrame\n",
    "# The function extracts email addresses from each description and stores them in a new \"Emails\" column\n",
    "Company_df[\"Emails\"]=Company_df[\"Description\"].apply(email_extract)\n",
    "\n",
    "# Display the updated DataFrame with the new \"Emails\" column\n",
    "Company_df"
   ]
  },
  {
   "cell_type": "markdown",
   "metadata": {},
   "source": [
    "##### 4. Write function which takes string as input and returns dictionary that contains each word and its frequency. Take input from user and use regex for matching patterns "
   ]
  },
  {
   "cell_type": "code",
   "execution_count": 35,
   "metadata": {},
   "outputs": [],
   "source": [
    "def word_count(text):\n",
    "    \"\"\"\n",
    "    Counts the frequency of each word in the given text.\n",
    "\n",
    "    Args:\n",
    "    text (str): The input text for which word frequency needs to be counted.\n",
    "\n",
    "    Returns:\n",
    "    dict: A dictionary where keys are words and values are the frequency of each word in the text.\n",
    "    \"\"\"\n",
    "    \n",
    "    # Convert the text to lowercase to ensure the word count is case-insensitive\n",
    "    text = text.lower()\n",
    "    \n",
    "    # Define a regular expression pattern to match words (sequences of alphanumeric characters)\n",
    "    word_pattern = r\"\\b\\w+\\b\"\n",
    "    \n",
    "    # Use re.findall() to find all words in the text based on the defined pattern\n",
    "    words = re.findall(word_pattern, text)\n",
    "    \n",
    "    # Initialize an empty dictionary to store the word counts\n",
    "    word_count = {}\n",
    "    \n",
    "    # Iterate over the list of words found in the text\n",
    "    for word in words:\n",
    "        # If the word is already in the dictionary, increment its count\n",
    "        if word in word_count:\n",
    "            word_count[word] += 1\n",
    "        else:\n",
    "            # If the word is not in the dictionary, add it with a count of 1\n",
    "            word_count[word] = 1\n",
    "\n",
    "    # Return the dictionary containing the word counts\n",
    "    return word_count\n"
   ]
  },
  {
   "cell_type": "code",
   "execution_count": 36,
   "metadata": {},
   "outputs": [
    {
     "name": "stdout",
     "output_type": "stream",
     "text": [
      "{'she': 3, 'sells': 1, 'sea': 4, 'shells': 1, 'on': 3, 'the': 3, 'shore': 3, 'built': 1, 'a': 2, 'castle': 1, 'sings': 1, 'song': 1}\n"
     ]
    }
   ],
   "source": [
    "# The input string\n",
    "string= \"She sells sea shells on the sea shore. She built a castle on the sea shore. She sings a song on the sea shore.\" \n",
    "# Calling the word count function\n",
    "word_freq=word_count(string)\n",
    "print(word_freq)"
   ]
  }
 ],
 "metadata": {
  "kernelspec": {
   "display_name": "Python 3",
   "language": "python",
   "name": "python3"
  },
  "language_info": {
   "codemirror_mode": {
    "name": "ipython",
    "version": 3
   },
   "file_extension": ".py",
   "mimetype": "text/x-python",
   "name": "python",
   "nbconvert_exporter": "python",
   "pygments_lexer": "ipython3",
   "version": "3.13.1"
  }
 },
 "nbformat": 4,
 "nbformat_minor": 2
}
